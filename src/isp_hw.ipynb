{
 "cells": [
  {
   "cell_type": "markdown",
   "metadata": {},
   "source": [
    "## COMP 790.175 Computational Imaging and Displays - Assignment 3: ISP\n",
    "### EMRE ONEMLI"
   ]
  },
  {
   "cell_type": "markdown",
   "metadata": {},
   "source": [
    "#### import necessary libraries"
   ]
  },
  {
   "cell_type": "code",
   "execution_count": 3,
   "metadata": {},
   "outputs": [],
   "source": [
    "import numpy as np"
   ]
  },
  {
   "cell_type": "markdown",
   "metadata": {},
   "source": [
    "### 1.1 Implement a basic image processing pipeline (80 points)"
   ]
  },
  {
   "cell_type": "markdown",
   "metadata": {},
   "source": [
    "dcraw: This is the command name, which invokes the dcraw program.\n",
    "\n",
    "-4: This flag tells dcraw to output the image in 16-bit linear or \"linear gamma\" format. By default, dcraw processes images in 8-bit. Using 16-bit allows for more precision, which is beneficial for high-quality post-processing, especially in shadows and highlights.\n",
    "\n",
    "-d: This option forces dcraw to use the document mode. In document mode, dcraw skips the color interpolation step, resulting in an image where each pixel corresponds directly to a single sensor element. This mode is sometimes referred to as producing a \"RAW\" image, but in a more direct sense, since no demosaicing is applied. It's useful for archival purposes or when maximum detail is required without interpolation artifacts.\n",
    "\n",
    "-v: This flag makes dcraw operate in verbose mode, where it outputs detailed information about the processing steps to the console. This can include information about the camera, the image, and the specific processing actions dcraw is taking.\n",
    "\n",
    "-w: This option tells dcraw to use the camera's white balance settings as specified in the RAW file. Without this flag, dcraw might use its own calculations or defaults for white balance, which could differ from what the camera's software determined.\n",
    "\n",
    "-T: This flag instructs dcraw to output a TIFF file instead of the default PPM format. TIFF files are widely used in professional photography and graphic design because they support higher bit depths and can include metadata. This is useful for further processing or editing in other software."
   ]
  },
  {
   "cell_type": "code",
   "execution_count": 10,
   "metadata": {},
   "outputs": [
    {
     "name": "stdout",
     "output_type": "stream",
     "text": [
      "shell-init: error retrieving current directory: getcwd: cannot access parent directories: No such file or directory\n",
      "Loading Nikon D3 image from ../data/baby.nef ...\n",
      "Scaling with darkness 0, saturation 16383, and\n",
      "multipliers 1.628906 1.000000 1.386719 1.000000\n",
      "Building histograms...\n",
      "Writing data to ../data/baby.tiff ...\n"
     ]
    }
   ],
   "source": [
    "!dcraw -4 -d -v -w -T ../data/baby.nef"
   ]
  },
  {
   "cell_type": "code",
   "execution_count": 15,
   "metadata": {},
   "outputs": [
    {
     "data": {
      "text/plain": [
       "''"
      ]
     },
     "execution_count": 15,
     "metadata": {},
     "output_type": "execute_result"
    }
   ],
   "source": [
    "'''\n",
    "Loading Nikon D3 image from ../data/baby.nef ...\n",
    "Scaling with darkness 0, saturation 16383, and\n",
    "multipliers 1.628906 1.000000 1.386719 1.000000\n",
    "Building histograms...\n",
    "Writing data to ../data/baby.tiff ...\n",
    "'''\n",
    "''"
   ]
  },
  {
   "cell_type": "code",
   "execution_count": null,
   "metadata": {},
   "outputs": [],
   "source": []
  },
  {
   "cell_type": "code",
   "execution_count": null,
   "metadata": {},
   "outputs": [],
   "source": []
  },
  {
   "cell_type": "code",
   "execution_count": null,
   "metadata": {},
   "outputs": [],
   "source": []
  },
  {
   "cell_type": "code",
   "execution_count": null,
   "metadata": {},
   "outputs": [],
   "source": []
  }
 ],
 "metadata": {
  "kernelspec": {
   "display_name": "isp_env",
   "language": "python",
   "name": "python3"
  },
  "language_info": {
   "codemirror_mode": {
    "name": "ipython",
    "version": 3
   },
   "file_extension": ".py",
   "mimetype": "text/x-python",
   "name": "python",
   "nbconvert_exporter": "python",
   "pygments_lexer": "ipython3",
   "version": "3.12.2"
  }
 },
 "nbformat": 4,
 "nbformat_minor": 2
}
